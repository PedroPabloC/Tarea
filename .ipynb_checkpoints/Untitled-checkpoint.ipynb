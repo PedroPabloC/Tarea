{
 "cells": [
  {
   "cell_type": "code",
   "execution_count": 17,
   "metadata": {},
   "outputs": [],
   "source": [
    "\n",
    "#Determinar la matriz de relaciones para un subesbacio ⟨v1,v2,…,vn⟩.\n",
    "\n",
    "def matrizDeRelaciones(*elementos):\n",
    "    '''\n",
    "    DESCRIPCION DE LA FUNCION:\n",
    "        La funcion obtiene una lista de elementos de un espacio vectorial V. \n",
    "        Calcula la matriz y la lleva a su forma escalonada reducida. Retorna\n",
    "        la matriz de relaciones.\n",
    "    \n",
    "    ENTRADA (INPUT):\n",
    "        *Una lista v1, ... , vn de elementos en el mismo espacio V\n",
    "        \n",
    "    SALIDA (OUTPUT):\n",
    "        *Una matriz de relaciones\n",
    "    \n",
    "    EJEMPLOS:\n",
    "        sage: matrizDeRelaciones([1,2],[1,-1],[3,0])\n",
    "        [   1   0   1 ]\n",
    "        [   0   1   2 ]\n",
    "        \n",
    "        ::\n",
    "        \n",
    "        \n",
    "        sage: matrizDeRelaciones([3,1,2],[1,-2,1],[3,8,1])\n",
    "        [   1   0   2 ]\n",
    "        [   0   1  -3 ]\n",
    "        \n",
    "        \n",
    "        ::\n",
    "        \n",
    "        \n",
    "        sage: matrizDeRelaciones([2,1],[−3,1],[1,2])\n",
    "        [   1   0 7/5 ]\n",
    "        [   0   1 3/5 ]\n",
    "        \n",
    "        \n",
    "        ::\n",
    "        \n",
    "        \n",
    "        sage: matrizDeRelaciones([-1,-1,1],[-1,2,3],[1,0,1],[2,-2,1])\n",
    "        [   1   0   0 3/4 ]\n",
    "        [   0   1   0 -5/8 ]\n",
    "        [   0   0   1 17/8 ]\n",
    "        \n",
    "        \n",
    "        ::\n",
    "        \n",
    "        \n",
    "        sage: matrizDeRelaciones([3,1,2],[1,-2,1],[3,8,1])\n",
    "        [   1   0   2 ]\n",
    "        [   0   1  -3 ]\n",
    "        \n",
    "        \n",
    "        ::\n",
    "        \n",
    "        \n",
    "\n",
    "        \n",
    "        \n",
    "        \n",
    "    '''\n",
    "        \n",
    "    #comprobacion \n",
    "    m=matrix(elementos[0]).nrows() #dimension de la entrada(filas)\n",
    "    n=matrix(elementos[0]).ncols() #dimension de la entrada(columnas)\n",
    "    bandera=False\n",
    "    for elemento in elementos: #recorre cada uno de los elementos de la entrada\n",
    "        if(m == matrix(elemento).nrows() and n == matrix(elemento).ncols()): #verificamos que todos los elementos pertenezcan al mismo espacio vectorial\n",
    "            bandera=True #si se cumple, la bandera es true\n",
    "        else:\n",
    "            bandera=False #si no se cumple, la bandera es false y nos salimos del ciclo for\n",
    "            break\n",
    "        \n",
    "    if(bandera): #si bandera es true\n",
    "        MR=[]\n",
    "        if(m==1): #checamos si las entradas son vectores o si son matrices\n",
    "            #formar matriz(trabajar con vectores)\n",
    "            for x in range(n): #recorremos los elementos de un vector                     \n",
    "                row=[]          \n",
    "                for elemento in elementos: #recorremos todos los elementos de la entrada\n",
    "                    dato = elemento[x] #tomamos de cada vector de entrada el valor correspondiente\n",
    "                    row.append(dato) #agregamos el elemento a una fila de la matriz\n",
    "                MR.append(row) #agregamos la fila a la matriz\n",
    "        else:            \n",
    "            #formar matriz(trabajar con matrices)\n",
    "            for x in range(n): #recorremos los elementos de la columna de una matriz                      \n",
    "                for y in range(m): #recorremos los elementos de la fila de una matriz\n",
    "                    row=[]          \n",
    "                    for elemento in elementos: #recorremos todos los elementos de la entrada\n",
    "                        dato = elemento[x][y] #tomamos de cada matriz de entrada el valor correspondiente\n",
    "                        row.append(dato) #agregamos el elemento a una fila de la matriz    \n",
    "                    MR.append(row) #agregamos la fila a la matriz\n",
    "        \n",
    "        #escalonada reducida \n",
    "        MR=matrix(MR).rref()       \n",
    "\n",
    "        #eliminar renglones de 0\n",
    "        r0=[]\n",
    "        for i in range(MR.nrows()): #recorremos las columnas \n",
    "            cont=0\n",
    "            for j in range(MR.ncols()): #recorremos las filas\n",
    "                if(MR[i][j]==0): #verificamos cuantos ceros hay por renglon \n",
    "                    cont+=1\n",
    "                if(cont==MR.nrows()): #verificamos si el renglon completa es de ceros \n",
    "                    r0.append(cont)\n",
    "        \n",
    "        #imprimir matriz           \n",
    "        for i in range(MR.nrows()-len(r0)): #recorremos las filas\n",
    "            print ('[', end=\" \")\n",
    "            for j in range(MR.ncols()): #recorremos las columnas\n",
    "                print ('{:>3s}'.format(str(MR[i][j])), end=\" \") #imprimimos los elementos del respectivo renglon\n",
    "            print (']')\n",
    "            \n",
    "    else:\n",
    "        #Caso de que los elementos de entrada no pertenezcan al mismo espacio vectorial\n",
    "        print(\"Los elementos deben pertenecer al mismo espacio vectorial(V)\")\n",
    "    \n",
    "\n",
    "\n"
   ]
  },
  {
   "cell_type": "code",
   "execution_count": 18,
   "metadata": {
    "scrolled": false
   },
   "outputs": [
    {
     "name": "stdout",
     "output_type": "stream",
     "text": [
      "[   1   0   2   1 ]\n",
      "[   0   1   3   1 ]\n"
     ]
    }
   ],
   "source": [
    "matrizDeRelaciones([[1,0],[1,1]],[[0,1],[1,0]],[[2,3],[5,2]],[[1,1],[2,1]])"
   ]
  },
  {
   "cell_type": "code",
   "execution_count": 19,
   "metadata": {
    "scrolled": false
   },
   "outputs": [
    {
     "name": "stdout",
     "output_type": "stream",
     "text": [
      "[   1   0   1   1 ]\n",
      "[   0   1   1  -1 ]\n"
     ]
    }
   ],
   "source": [
    "matrizDeRelaciones([1,-1,2,1],[-1,1,1,2],[0,0,3,3],[2,-2,1,-1])"
   ]
  },
  {
   "cell_type": "code",
   "execution_count": 20,
   "metadata": {
    "scrolled": true
   },
   "outputs": [
    {
     "name": "stdout",
     "output_type": "stream",
     "text": [
      "Los elementos deben pertenecer al mismo espacio vectorial(V)\n"
     ]
    }
   ],
   "source": [
    "matrizDeRelaciones([1,-1,2],[-1,1,1,2],[0,0,3,3],[2,-2,1,-1])"
   ]
  },
  {
   "cell_type": "code",
   "execution_count": 42,
   "metadata": {},
   "outputs": [
    {
     "name": "stdout",
     "output_type": "stream",
     "text": [
      "[   1   0   1   1 ]\n",
      "[   0   1   1  -1 ]\n"
     ]
    }
   ],
   "source": [
    "matrizDeRelaciones([1,-1,2],[-1,1,1],[0,0,3],[2,-2,1])"
   ]
  },
  {
   "cell_type": "code",
   "execution_count": 22,
   "metadata": {},
   "outputs": [
    {
     "name": "stdout",
     "output_type": "stream",
     "text": [
      "[   1   0   0 6/5 ]\n",
      "[   0   1   0 -6/5 ]\n",
      "[   0   0   1 -2/5 ]\n"
     ]
    }
   ],
   "source": [
    "matrizDeRelaciones([1,0,2],[-1,1,1],[1,2,3],[2,-2,0])"
   ]
  },
  {
   "cell_type": "code",
   "execution_count": 26,
   "metadata": {},
   "outputs": [
    {
     "name": "stdout",
     "output_type": "stream",
     "text": [
      "[   1   0   0 ]\n",
      "[   0   1   0 ]\n",
      "[   0   0   1 ]\n"
     ]
    }
   ],
   "source": [
    "matrizDeRelaciones([2,2,1],[3,1,0],[2,5,7])"
   ]
  },
  {
   "cell_type": "code",
   "execution_count": 33,
   "metadata": {},
   "outputs": [
    {
     "name": "stdout",
     "output_type": "stream",
     "text": [
      "[   1   0   1 ]\n",
      "[   0   1   2 ]\n"
     ]
    }
   ],
   "source": [
    "matrizDeRelaciones([1,2],[1,-1],[3,0])\n"
   ]
  }
 ],
 "metadata": {
  "kernelspec": {
   "display_name": "SageMath 9.1",
   "language": "sage",
   "name": "sagemath"
  }
 },
 "nbformat": 4,
 "nbformat_minor": 4
}
